{
 "cells": [
  {
   "cell_type": "markdown",
   "metadata": {},
   "source": [
    "В этом видео мы потренируемся строить биномиальный критерий для доли. Ранее мы уже научились строить доверительные интервалы для доли с помощью нормального распределения, а также методом Уилсона. В этом видео потренируемся строить критерий.\n",
    "\n",
    "Давайте рассмотрим следующую задачу. Наверняка многие помнят, что Джеймс Бонд утверждает, что он предпочитает пить мартини взболтанным, но не смешанным. Как бы мы могли проверить это на практике? Можно было бы предложить Джеймсу Бонду пройти так называемый blind test, или слепое тестирование. Можно было бы завязать ему глаза, несколько раз предложить на выбор взболтанный и смешанный мартини, а после этого спросить, какой напиток он предпочитает. В данном случае если бы Джеймс Бонд выбирал взболтанный напиток, мы бы говорили, что это успех, потому что его выбор соответствует его утверждению. В противном случае мы бы говорили, что произошла неудача, так как выбор утверждению не соответствует. Как в данном случае выглядела бы проверка гипотез? Мы бы проверяли нулевую гипотезу о том, что Джеймс Бонд не различает два вида напитков и выбирает наугад, против некоторой альтернативы. Но альтернатива, вообще говоря, могла бы быть разной. С одной стороны, мы могли бы рассматривать двустороннюю альтернативу — Джеймс Бонд отличает два вида напитков, и у него есть некоторые предпочтения, — или одну из односторонних — Джеймс Бонд предпочитает взболтанный мартини, так, как он утверждает, или Джеймс Бонд предпочитает смешанный.\n",
    "\n",
    "Такой эксперимент мы провели бы n раз и в качестве T-статистики использовали бы количество единиц выборки или сумму элементов выборки.\n",
    "\n",
    "Если наша нулевая гипотеза справедлива, то есть Джеймс Бонд выбирает напиток наугад, то мы могли бы равновероятно получить любую комбинацию из нулей и единиц. Таких комбинаций ровно 2 в степени n, поэтому для того чтобы получить нулевое распределение, мы могли бы с вами сгенерировать все эти наборы данных, на каждом посчитать значение этой статистики и таким образом получить наше распределение.\n",
    "\n",
    "На самом деле, в данном случае этот шаг мы можем пропустить. Почему? Потому что мы имеем дело с выборкой, состоящей из нулей и единиц из распределения Бернулли с вероятностью успеха p. В данном случае вероятность успеха p = 0,5, потому что если нулевая гипотеза справедлива, то успех и неудачи просходят равновероятно.\n",
    "\n",
    "Соответственно, мы с вами работаем с выборкой, которая представляет из себя сумму n независимых одинаково распределенных величин из распределения Бернулли. Соответственно, нулевое распределение статистики — это биномиальное распределение с параметрами n, количество экспериментов, и p, вероятность успеха. Соответственно, давайте возьмем n, равное 16, и вероятность успеха — 0,5.\n",
    "\n",
    "Вот давайте посмотрим, как распределение нулевой статистики могло бы выглядеть. Давайте для начала его построим, это можно сделать с помощью функции binom, которой мы передаем количество испытаний и вероятность успеха. И дальше давайте просто посмотрим распределение."
   ]
  },
  {
   "cell_type": "markdown",
   "metadata": {},
   "source": [
    "# Биномиальный критерий для доли"
   ]
  },
  {
   "cell_type": "code",
   "execution_count": 1,
   "metadata": {},
   "outputs": [],
   "source": [
    "import numpy as np\n",
    "from scipy import stats"
   ]
  },
  {
   "cell_type": "code",
   "execution_count": 3,
   "metadata": {},
   "outputs": [
    {
     "name": "stdout",
     "output_type": "stream",
     "text": [
      "1.18.5\n",
      "1.5.0\n"
     ]
    }
   ],
   "source": [
    "import scipy\n",
    "print(np.__version__)\n",
    "print(scipy.__version__)"
   ]
  },
  {
   "cell_type": "code",
   "execution_count": 4,
   "metadata": {},
   "outputs": [
    {
     "name": "stdout",
     "output_type": "stream",
     "text": [
      "Populating the interactive namespace from numpy and matplotlib\n"
     ]
    }
   ],
   "source": [
    "%pylab inline"
   ]
  },
  {
   "cell_type": "markdown",
   "metadata": {},
   "source": [
    "## Shaken, not stirred"
   ]
  },
  {
   "cell_type": "code",
   "execution_count": 5,
   "metadata": {},
   "outputs": [
    {
     "data": {
      "text/plain": [
       "65536"
      ]
     },
     "execution_count": 5,
     "metadata": {},
     "output_type": "execute_result"
    }
   ],
   "source": [
    "2 ** 16"
   ]
  },
  {
   "cell_type": "markdown",
   "metadata": {},
   "source": [
    "Джеймс Бонд говорит, что предпочитает мартини взболтанным, но не смешанным. Проведём слепой тест (blind test): $n$ раз предложим ему пару напитков и выясним, какой из двух он предпочитает. Получаем: \n",
    "* **выборка:** бинарный вектор длины $n$, где 1 — Джеймс Бонд предпочел взболтанный напиток, 0 — смешанный;\n",
    "* **гипотеза $H_0$:** Джеймс Бонд не различает 2 вида напитков и выбирает наугад;\n",
    "* **статистика $T$:** количество единиц в выборке."
   ]
  },
  {
   "cell_type": "markdown",
   "metadata": {},
   "source": [
    "Если нулевая гипотеза справедлива и Джеймс Бонд действительно выбирает наугад, то мы можем с одинаковой вероятностью получить любой из $2^n$ бинарных векторов длины $n$. \n",
    "\n",
    "Мы могли бы перебрать все такие векторы, посчитать на каждом значение статистики $T$ и получить таким образом её нулевое распределение. Но в данном случае этот этап можно пропустить: мы имеем дело с выборкой, состоящей из 0 и 1, то есть, из распределения Бернулли $Ber(p)$. Нулевая гипотеза выбора наугад соответствует значению $p=\\frac1{2}$, то есть, в каждом эксперименте вероятность выбора взболтанного мартини равна $\\frac1{2}$. Сумма $n$ одинаково распределённых бернуллиевских случайных величин с параметром $p$ имеет биномиальное распределение $Bin(n, p)$. Следовательно, нулевое распределение статистики $T$ — $Bin\\left(n, \\frac1{2}\\right)$.\n",
    "\n",
    "Пусть $n=16.$"
   ]
  },
  {
   "cell_type": "code",
   "execution_count": 7,
   "metadata": {},
   "outputs": [
    {
     "data": {
      "text/plain": [
       "<scipy.stats._distn_infrastructure.rv_frozen at 0x7fa78003d3a0>"
      ]
     },
     "execution_count": 7,
     "metadata": {},
     "output_type": "execute_result"
    }
   ],
   "source": [
    "n = 16\n",
    "F_H0 = stats.binom(n, 0.5)\n",
    "F_H0"
   ]
  },
  {
   "cell_type": "code",
   "execution_count": 9,
   "metadata": {},
   "outputs": [
    {
     "data": {
      "text/plain": [
       "array([1.52587891e-05, 2.44140625e-04, 1.83105469e-03, 8.54492188e-03,\n",
       "       2.77709961e-02, 6.66503906e-02, 1.22192383e-01, 1.74560547e-01,\n",
       "       1.96380615e-01, 1.74560547e-01, 1.22192383e-01, 6.66503906e-02,\n",
       "       2.77709961e-02, 8.54492188e-03, 1.83105469e-03, 2.44140625e-04,\n",
       "       1.52587891e-05])"
      ]
     },
     "execution_count": 9,
     "metadata": {},
     "output_type": "execute_result"
    }
   ],
   "source": [
    "F_H0.pmf(x)"
   ]
  },
  {
   "cell_type": "code",
   "execution_count": 19,
   "metadata": {},
   "outputs": [
    {
     "data": {
      "text/plain": [
       "array([ 0.,  1.,  2.,  3.,  4.,  5.,  6.,  7.,  8.,  9., 10., 11., 12.,\n",
       "       13., 14., 15., 16.])"
      ]
     },
     "execution_count": 19,
     "metadata": {},
     "output_type": "execute_result"
    }
   ],
   "source": [
    "x"
   ]
  },
  {
   "cell_type": "code",
   "execution_count": 14,
   "metadata": {},
   "outputs": [
    {
     "data": {
      "text/plain": [
       "<BarContainer object of 17 artists>"
      ]
     },
     "execution_count": 14,
     "metadata": {},
     "output_type": "execute_result"
    },
    {
     "data": {
      "image/png": "[encoded data removed]",
      "text/plain": [
       "<Figure size 432x288 with 1 Axes>"
      ]
     },
     "metadata": {
      "needs_background": "light"
     },
     "output_type": "display_data"
    }
   ],
   "source": [
    "x = np.linspace(0,16,17)\n",
    "\n",
    "pylab.bar(x,\n",
    "          F_H0.pmf(x),\n",
    "          align = 'center')\n",
    "#xlim(-0.5, 16.5) \n",
    "#pylab.show()"
   ]
  },
  {
   "cell_type": "markdown",
   "metadata": {},
   "source": [
    "Видим, что получили распределение ровно такое, которое мы ожидаем — пик в центре. Так как у нас 16 испытаний, вероятность успеха — 0,5, то пик должен приходиться на 8. Ровно это мы здесь и видим."
   ]
  },
  {
   "cell_type": "markdown",
   "metadata": {},
   "source": [
    "Теперь давайте перейдем непосредственно к проверке гипотез. Так как Джеймс Бонд утверждает, что он предпочитает взболтанный мартини, то давайте с этого и начнем и будем тестировать гипотезу H0 против односторонней альтернативы."
   ]
  },
  {
   "cell_type": "markdown",
   "metadata": {},
   "source": [
    "## Односторонняя альтернатива"
   ]
  },
  {
   "cell_type": "markdown",
   "metadata": {},
   "source": [
    "Соответственно, гипотеза H1: Джеймс Бонд предпочитает взболтанный мартини. При такой альтернативе более вероятно попасть в правый конец распределения, то есть более вероятно в нашей выборке получить много единиц. А вот давайте предположим, что мы действительно провели 16 испытаний и при этом в 12 из 16 испытаний Джеймс Бонд выбрал взболтанный мартини, то есть произошел успех.\n",
    "\n",
    "Давайте построим соответствующее нулевое распределение, и видим, что в данном случае наша T-статистика была бы равна 12 и нас бы интересовал правый «хвост» из нашего распределения. В данном случае нам нужно просуммировать высоту столбцов, начиная со столбца, соответствующего 12, и правее, то есть правый «хвост» нашего распределения, и использовать полученное значение при расчете достигаемого уровня значимости.\n",
    "\n",
    "Итак, давайте это сделаем. В данном случае передаем в метод binom_test из модуля stats следующие параметры: первый параметр — это 12, количество успехов, соответственно, следующий параметр — 16, количество испытаний, величина 0,5 — это величина p. И соответственно, вид альтернативы, в данном случае односторонняя альтернатива greater.\n",
    "\n",
    "Итак, давайте посмотрим на значение p-value и увидим, что p-value достаточно маленькое — 0,04. Это говорит о том, что на уровне значимости 0,05 мы можем отвергать нулевую гипотезу. То есть если 12 раз из 16 у нас произойдет успех, то мы с вами можем сделать вывод о том, что Джеймс Бонд предпочитает взболтанный мартини."
   ]
  },
  {
   "cell_type": "markdown",
   "metadata": {},
   "source": [
    "**гипотеза $H_1$:** Джеймс Бонд предпочитает взболтанный мартини.\n",
    "\n",
    "При такой альтернативе более вероятны большие значения статистики; при расчёте достигаемого уровня значимости будем суммировать высоту столбиков в правом хвосте распределения."
   ]
  },
  {
   "cell_type": "code",
   "execution_count": 26,
   "metadata": {},
   "outputs": [
    {
     "data": {
      "text/plain": [
       "<BarContainer object of 5 artists>"
      ]
     },
     "execution_count": 26,
     "metadata": {},
     "output_type": "execute_result"
    },
    {
     "data": {
      "image/png": "[encoded data removed]",
      "text/plain": [
       "<Figure size 432x288 with 1 Axes>"
      ]
     },
     "metadata": {
      "needs_background": "light"
     },
     "output_type": "display_data"
    }
   ],
   "source": [
    "pylab.bar(np.linspace(0,16,17),\n",
    "          F_H0.pmf(np.linspace(0,16,17)),\n",
    "          align = 'center')\n",
    "\n",
    "pylab.bar(np.linspace(12,16,5),\n",
    "          F_H0.pmf(np.linspace(12,16,5)),\n",
    "          align = 'center',\n",
    "          color = 'red')\n",
    "\n",
    "#xlim(-0.5, 16.5) \n",
    "#pylab.show()"
   ]
  },
  {
   "cell_type": "code",
   "execution_count": null,
   "metadata": {},
   "outputs": [],
   "source": [
    "np.linspace(12,16,5)"
   ]
  },
  {
   "cell_type": "code",
   "execution_count": 16,
   "metadata": {},
   "outputs": [
    {
     "data": {
      "text/plain": [
       "0.0384063720703125"
      ]
     },
     "execution_count": 16,
     "metadata": {},
     "output_type": "execute_result"
    }
   ],
   "source": [
    "stats.binom_test(12, 16, 0.5,\n",
    "                 alternative = 'greater')"
   ]
  },
  {
   "cell_type": "markdown",
   "metadata": {},
   "source": [
    "Так, давайте посмотрим, что было бы, если бы успехов было немножечко меньше, например, 11. Могли бы мы в этом случае прийти к такому же выводу? Ну давайте построим соответствующую гистограмму и увидим, что добавился еще один столбец по сравнению с предыдущим рисунком. Ну а теперь давайте рассчитаем значение p-value. Как вы думаете, мы получим значение больше или меньше? "
   ]
  },
  {
   "cell_type": "code",
   "execution_count": 17,
   "metadata": {},
   "outputs": [
    {
     "data": {
      "text/plain": [
       "<BarContainer object of 6 artists>"
      ]
     },
     "execution_count": 17,
     "metadata": {},
     "output_type": "execute_result"
    },
    {
     "data": {
      "image/png": "[encoded data removed]",
      "text/plain": [
       "<Figure size 432x288 with 1 Axes>"
      ]
     },
     "metadata": {
      "needs_background": "light"
     },
     "output_type": "display_data"
    }
   ],
   "source": [
    "pylab.bar(x,\n",
    "          F_H0.pmf(x),\n",
    "          align = 'center')\n",
    "\n",
    "pylab.bar(np.linspace(11,16,6),\n",
    "          F_H0.pmf(np.linspace(11,16,6)),\n",
    "          align = 'center',\n",
    "          color='red')\n",
    "\n",
    "#xlim(-0.5, 16.5) \n",
    "#pylab.show()"
   ]
  },
  {
   "cell_type": "code",
   "execution_count": 18,
   "metadata": {},
   "outputs": [
    {
     "data": {
      "text/plain": [
       "0.10505676269531246"
      ]
     },
     "execution_count": 18,
     "metadata": {},
     "output_type": "execute_result"
    }
   ],
   "source": [
    "stats.binom_test(11, 16, 0.5, alternative = 'greater')"
   ]
  },
  {
   "cell_type": "markdown",
   "metadata": {},
   "source": [
    "Давайте посмотрим. Видим, что значение p-value стало больше — теперь это 0,1, то есть на уровне значимости 0,05 мы уже не можем отвергнуть нулевую альтернативу."
   ]
  },
  {
   "cell_type": "markdown",
   "metadata": {},
   "source": [
    "## Двусторонняя альтернатива"
   ]
  },
  {
   "cell_type": "markdown",
   "metadata": {},
   "source": [
    "Теперь давайте перейдем к двусторонней альтернативе. В данном случае гипотеза H1 переформулируется следующим образом: Джеймс Бонд предпочитает какой-то один определенный вид мартини, при этом мы не выбираем, какой именно. При такой альтернативе будут очень вероятны либо большие значения этой статистики, либо очень маленькие. При расчете достигаемого уровня значимости мы с вами будем учитывать как правый, так и левый конец нашего распределения. Соответственно, мы будем суммировать высоту правых и левых столбцов. Вот давайте для начала предположим снова, что у нас произошло 12 успехов, то есть 12 раз Джеймс Бонд выбрал взболтанный мартини, и посмотрим, какие столбцы мы с вами будем суммировать."
   ]
  },
  {
   "cell_type": "markdown",
   "metadata": {},
   "source": [
    "**гипотеза $H_1$:** Джеймс Бонд предпочитает какой-то определённый вид мартини.\n",
    "\n",
    "При такой альтернативе более вероятны очень большие и очень маленькие значения статистики; при расчёте достигаемого уровня значимости будем суммировать высоту столбиков в правом и левом хвостах распределения."
   ]
  },
  {
   "cell_type": "code",
   "execution_count": 27,
   "metadata": {},
   "outputs": [
    {
     "data": {
      "text/plain": [
       "<BarContainer object of 5 artists>"
      ]
     },
     "execution_count": 27,
     "metadata": {},
     "output_type": "execute_result"
    },
    {
     "data": {
      "image/png": "[encoded data removed]",
      "text/plain": [
       "<Figure size 432x288 with 1 Axes>"
      ]
     },
     "metadata": {
      "needs_background": "light"
     },
     "output_type": "display_data"
    }
   ],
   "source": [
    "pylab.bar(x,\n",
    "          F_H0.pmf(x),\n",
    "          align = 'center')\n",
    "\n",
    "pylab.bar(np.linspace(12,16,5),\n",
    "          F_H0.pmf(np.linspace(12,16,5)),\n",
    "          align = 'center',\n",
    "          color='red')\n",
    "\n",
    "pylab.bar(np.linspace(0,4,5),\n",
    "          F_H0.pmf(np.linspace(0,4,5)),\n",
    "          align = 'center',\n",
    "          color='red')\n",
    "\n",
    "#xlim(-0.5, 16.5) \n",
    "#pylab.show()"
   ]
  },
  {
   "cell_type": "markdown",
   "metadata": {},
   "source": [
    "Видим, что мы снова суммируем тот же самый правый конец, но теперь к нему добавляется и левый конец. Теперь давайте рассчитаем значение p-value. Делаем мы это с помощью той же самой функции, однако теперь меняем вид альтернативы — она двусторонняя. "
   ]
  },
  {
   "cell_type": "code",
   "execution_count": 28,
   "metadata": {},
   "outputs": [
    {
     "data": {
      "text/plain": [
       "0.076812744140625"
      ]
     },
     "execution_count": 28,
     "metadata": {},
     "output_type": "execute_result"
    }
   ],
   "source": [
    "stats.binom_test(12, 16, 0.5, alternative = 'two-sided')"
   ]
  },
  {
   "cell_type": "markdown",
   "metadata": {},
   "source": [
    "И смотрим на значение p-value. Видим, что значение p-value — почти 0,08. То есть это больше, чем было в том случае, когда мы проверяли гипотезу H0 против односторонней альтернативы greater. Соответственно, в данном случае мы не можем отвергнуть гипотезу на уровне значимости 0,05, однако мы можем отвергнуть нулевую гипотезу на уровне значимости 0,1."
   ]
  },
  {
   "cell_type": "markdown",
   "metadata": {},
   "source": [
    "Итак, давайте посмотрим, что было бы, если бы у нас произошло 13 испытаний — может быть, их достаточно для того, чтобы отвергнуть нулевую гипотезу на уровне 0,05. "
   ]
  },
  {
   "cell_type": "code",
   "execution_count": 29,
   "metadata": {},
   "outputs": [
    {
     "data": {
      "image/png": "[encoded data removed]",
      "text/plain": [
       "<Figure size 432x288 with 1 Axes>"
      ]
     },
     "metadata": {
      "needs_background": "light"
     },
     "output_type": "display_data"
    }
   ],
   "source": [
    "pylab.bar(x, F_H0.pmf(x), align = 'center')\n",
    "pylab.bar(np.linspace(13,16,4), F_H0.pmf(np.linspace(13,16,4)), align = 'center', color='red')\n",
    "pylab.bar(np.linspace(0,3,4), F_H0.pmf(np.linspace(0,3,4)), align = 'center', color='red')\n",
    "xlim(-0.5, 16.5) \n",
    "pylab.show()"
   ]
  },
  {
   "cell_type": "code",
   "execution_count": 30,
   "metadata": {},
   "outputs": [
    {
     "data": {
      "text/plain": [
       "0.021270751953125"
      ]
     },
     "execution_count": 30,
     "metadata": {},
     "output_type": "execute_result"
    }
   ],
   "source": [
    "stats.binom_test(13, 16, 0.5, alternative = 'two-sided')"
   ]
  },
  {
   "cell_type": "markdown",
   "metadata": {},
   "source": [
    "Смотрим и видим, что мы суммируем значения, соответствующие правому левому концу, в данном случае столбцов. Красных столбцов уже меньше, то есть мы видим, что значение статистики более экстремальное. И теперь давайте посмотрим на значение p-value. Видим, что всего лишь 0,02. Соответственно, мы можем отвергнуть нулевую гипотезу на уровне значимости 0,05. "
   ]
  },
  {
   "cell_type": "markdown",
   "metadata": {},
   "source": [
    "Итак, мы с вами научились применять **биномиальный критерий для доли**, мы научились тестировать нулевую гипотезу против двусторонних и односторонних альтернатив. А на следующем видео мы поговорим про критерий Хи-квадрат, или критерий согласия Пирсона."
   ]
  },
  {
   "cell_type": "code",
   "execution_count": null,
   "metadata": {},
   "outputs": [],
   "source": []
  }
 ],
 "metadata": {
  "kernelspec": {
   "display_name": "Python 3",
   "language": "python",
   "name": "python3"
  },
  "language_info": {
   "codemirror_mode": {
    "name": "ipython",
    "version": 3
   },
   "file_extension": ".py",
   "mimetype": "text/x-python",
   "name": "python",
   "nbconvert_exporter": "python",
   "pygments_lexer": "ipython3",
   "version": "3.8.3"
  }
 },
 "nbformat": 4,
 "nbformat_minor": 1
}
