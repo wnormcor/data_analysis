{
 "cells": [
  {
   "cell_type": "markdown",
   "metadata": {},
   "source": [
    "**Корректность проверена на Python 3.7:**\n",
    "+ pandas 0.23.0\n",
    "+ numpy 1.14.5\n",
    "+ scipy 1.1.0"
   ]
  },
  {
   "cell_type": "markdown",
   "metadata": {},
   "source": [
    "# Критерий согласия Пирсона ( $\\chi^2$)"
   ]
  },
  {
   "cell_type": "code",
   "execution_count": 1,
   "metadata": {},
   "outputs": [],
   "source": [
    "import numpy as np\n",
    "import pandas as pd\n",
    "\n",
    "from scipy import stats"
   ]
  },
  {
   "cell_type": "code",
   "execution_count": 2,
   "metadata": {},
   "outputs": [
    {
     "name": "stdout",
     "output_type": "stream",
     "text": [
      "1.18.5\n",
      "1.0.5\n",
      "1.5.0\n"
     ]
    }
   ],
   "source": [
    "import scipy\n",
    "print(np.__version__)\n",
    "print(pd.__version__)\n",
    "print(scipy.__version__)"
   ]
  },
  {
   "cell_type": "code",
   "execution_count": 3,
   "metadata": {},
   "outputs": [
    {
     "name": "stdout",
     "output_type": "stream",
     "text": [
      "Populating the interactive namespace from numpy and matplotlib\n"
     ]
    }
   ],
   "source": [
    "%pylab inline"
   ]
  },
  {
   "cell_type": "markdown",
   "metadata": {},
   "source": [
    "В этом видео мы потренируемся на практике применять критерии согласия Пирсона или критерий хи-квадрат. Напомню, что этот критерий используется для проверки того, что некоторая наблюдаемая случайная величина подчиняется тому или иному теоретическому закону распределения. \n",
    "\n",
    "Тренироваться мы будем на примере про исчерпанную рождаемость. Этот признак связан с количеством детей, родившихся у женщины на момент окончания репродуктивного возраста. Это приблизительно 45 лет. Для 1878 женщин старше 45, участвующих в социологическом опросе жителей Швейцарии, известно количество детей. Этот признак – типичный счётчик, поэтому его можно попробовать оценить с помощью распределения Пуассона. Таким образом, работать мы будем со следующей выборкой: это будет целочисленный вектор длины n, в данном случае длины 1878, где каждые компоненты вектора характеризуют количество детей, рожденных у женщины. В данном случае гипотеза H0 – это то, что наша наблюдаемая величина имеет распределение Пуассона."
   ]
  },
  {
   "cell_type": "markdown",
   "metadata": {},
   "source": [
    "## Исчерпанная рождаемость"
   ]
  },
  {
   "cell_type": "markdown",
   "metadata": {},
   "source": [
    "Исчерпанная рождаемость — количество детей, родившихся у женщины на момент окончания конвенционального репродуктивного возраста (45 лет). Для 1878 женщин старше 45, участвовавших в социологическом опросе жителей Швейцарии, известно количество детей. Этот признак — типичный счётчик, а, значит, его можно попробовать описать распределением Пуассона."
   ]
  },
  {
   "cell_type": "markdown",
   "metadata": {},
   "source": [
    "* **выборка** - целочисленный вектор длиы $n$, характеризующий количество детей у опрашиваемой женщины\n",
    "* **гипотеза $H_0$** - рассматриваемая величина имеет распределение Пуассона"
   ]
  },
  {
   "cell_type": "markdown",
   "metadata": {},
   "source": [
    "Для начала давайте загрузим данные. Сделаем это с помощью функции open, и так как мы с вами заранее знаем, какого вида наши данные, давайте сразу отрежем от каждой строчки все нечитаемые символы и преобразуем tip в int. Делаем это с помощью простой комбинации функции map и λ. Вот так, готово. "
   ]
  },
  {
   "cell_type": "code",
   "execution_count": 4,
   "metadata": {},
   "outputs": [],
   "source": [
    "fin = open('fertility.txt', 'r')"
   ]
  },
  {
   "cell_type": "code",
   "execution_count": 7,
   "metadata": {},
   "outputs": [],
   "source": [
    "data = list(map(lambda x: int(x.strip()), fin.readlines()))"
   ]
  },
  {
   "cell_type": "markdown",
   "metadata": {},
   "source": [
    "Давайте посмотрим на данные. Мы видим, что, действительно, это просто список целых чисел. Давайте посмотрим на то, как наши данные распределены. Для того чтобы это сделать, нам нужно проссумировать сколько раз встречается каждое количество детей. Это очень легко сделать с помощью функции bincount из модуля NumPy. И построим график. Ну вот мы видим, что, в общем-то, количество детей меняется от 0 до 11. Чаще всего у женщины не более четырёх детей. Наиболее часто встречающееся количество детей – это два ребёнка. Кажется, что такие данные должны хорошо описываться распределением Пуассона."
   ]
  },
  {
   "cell_type": "code",
   "execution_count": 9,
   "metadata": {},
   "outputs": [
    {
     "data": {
      "text/plain": [
       "[0, 0, 2, 0, 2, 3, 2, 2, 2, 2, 1, 2, 0, 2, 0, 2, 3, 2, 2, 4]"
      ]
     },
     "execution_count": 9,
     "metadata": {},
     "output_type": "execute_result"
    }
   ],
   "source": [
    "data[:20]"
   ]
  },
  {
   "cell_type": "code",
   "execution_count": 15,
   "metadata": {},
   "outputs": [
    {
     "data": {
      "text/plain": [
       "array([379, 262, 684, 353, 128,  35,  16,   8,  10,   1,   1,   1])"
      ]
     },
     "execution_count": 15,
     "metadata": {},
     "output_type": "execute_result"
    }
   ],
   "source": [
    "np.bincount(data)"
   ]
  },
  {
   "cell_type": "code",
   "execution_count": 13,
   "metadata": {},
   "outputs": [
    {
     "data": {
      "text/plain": [
       "<matplotlib.legend.Legend at 0x7fbc6dd58250>"
      ]
     },
     "execution_count": 13,
     "metadata": {},
     "output_type": "execute_result"
    },
    {
     "data": {
      "image/png": "[encoded data removed]",
      "text/plain": [
       "<Figure size 432x288 with 1 Axes>"
      ]
     },
     "metadata": {
      "needs_background": "light"
     },
     "output_type": "display_data"
    }
   ],
   "source": [
    "pylab.bar(range(12),\n",
    "          np.bincount(data),\n",
    "          color = 'red',\n",
    "          label = 'fertility_stat')\n",
    "\n",
    "pylab.legend()"
   ]
  },
  {
   "cell_type": "code",
   "execution_count": 16,
   "metadata": {},
   "outputs": [],
   "source": [
    "import seaborn as sns; sns.set()"
   ]
  },
  {
   "cell_type": "code",
   "execution_count": 30,
   "metadata": {},
   "outputs": [
    {
     "data": {
      "text/plain": [
       "<matplotlib.axes._subplots.AxesSubplot at 0x7fbc713d5ee0>"
      ]
     },
     "execution_count": 30,
     "metadata": {},
     "output_type": "execute_result"
    },
    {
     "data": {
      "image/png": "[encoded data removed]",
      "text/plain": [
       "<Figure size 432x288 with 1 Axes>"
      ]
     },
     "metadata": {},
     "output_type": "display_data"
    }
   ],
   "source": [
    "sns.distplot(data, bins = 12, kde=False)"
   ]
  },
  {
   "cell_type": "code",
   "execution_count": 25,
   "metadata": {},
   "outputs": [
    {
     "data": {
      "text/plain": [
       "<matplotlib.axes._subplots.AxesSubplot at 0x7fbc6fb57f10>"
      ]
     },
     "execution_count": 25,
     "metadata": {},
     "output_type": "execute_result"
    },
    {
     "data": {
      "image/png": "[encoded data removed]",
      "text/plain": [
       "<Figure size 432x288 with 1 Axes>"
      ]
     },
     "metadata": {},
     "output_type": "display_data"
    }
   ],
   "source": [
    "sns.countplot(x = data)"
   ]
  },
  {
   "cell_type": "markdown",
   "metadata": {},
   "source": [
    "Давайте сразу оценим, какая λ должна быть в этом случае. Из предыдущих курсов вы помните, что лучшая оценка на параметр λ для распределения Пуассона, это просто выборочное среднее. Вот давайте его посчитаем и посмотрим, сколько же это. Получается приблизительно 2. Таким образом, давайте проверять следующую гипотезу. "
   ]
  },
  {
   "cell_type": "code",
   "execution_count": 14,
   "metadata": {},
   "outputs": [
    {
     "data": {
      "text/plain": [
       "1.93716719914803"
      ]
     },
     "execution_count": 14,
     "metadata": {},
     "output_type": "execute_result"
    }
   ],
   "source": [
    "l = np.mean(data)\n",
    "l"
   ]
  },
  {
   "cell_type": "markdown",
   "metadata": {},
   "source": [
    "## Критерий согласия"
   ]
  },
  {
   "cell_type": "markdown",
   "metadata": {},
   "source": [
    "Наша с вами наблюдаемая случайная величина имеет распределение Пуассона с λ = 2. Делать это будем с помощью критерия согласия Пирсона. Мы с вами захотим применить критерий хи-квадрат с помощью функции Chi-square из модуля stats библиотеки SciPy."
   ]
  },
  {
   "cell_type": "markdown",
   "metadata": {},
   "source": [
    "Для этого нам нужно будет подготовить данные. Первое, что нас будет интересовать, это наблюдённые частоты. В данном случае мы с вами знаем, сколько раз встретилось каждое количество детей в данных, поэтому давайте это рассчитаем. Это очень просто, мы уже сегодня применяли функцию bincount. Давайте это сделаем и сразу же увидим результат. Мы получили целочисленный вектор, где каждая компонента характеризует, сколько раз данное количество детей встретилось. То есть элемент вектора 0 говорит о том, сколько раз в нашей выборке встретилось количество детей, равное 0, в данном случае это 379, и последний 11 элемент означает, что 11 детей у нас встретилось всего лишь 1 раз. Это наблюдённые частоты."
   ]
  },
  {
   "cell_type": "code",
   "execution_count": 31,
   "metadata": {},
   "outputs": [
    {
     "data": {
      "text/plain": [
       "array([379, 262, 684, 353, 128,  35,  16,   8,  10,   1,   1,   1])"
      ]
     },
     "execution_count": 31,
     "metadata": {},
     "output_type": "execute_result"
    }
   ],
   "source": [
    "observed_frequences = np.bincount(data)\n",
    "observed_frequences"
   ]
  },
  {
   "cell_type": "markdown",
   "metadata": {},
   "source": [
    "Теперь нам нужно построить так называемые ожидаемые частоты. Что же это такое? Если бы наши данные имели ровное распределение Пуассона с параметром λ2 и размер данных был бы таким же, сколько раз мы бы встретили каждое количество детей? Вот именно эту величину нам с вами нужно рассчитать. Это делается довольно просто. С помощью функции **pmf stats.poisson.pmf** мы можем с вами посчитать вероятность встретить некоторые значения, если данные распределены с распределением Пуассона. Давайте эти вероятности рассчитаем, они нас будут интересовать для значений от 0 до 11, а дальше просто умножим их на размер нашей выборки. Таким образом, мы получим то распределение, которое мы бы имели, если бы данные были порождены именно распределением Пуассона с оценённым нами параметром. Давайте это сделаем и посмотрим, какие же ожидаемые частоты мы бы получили."
   ]
  },
  {
   "cell_type": "code",
   "execution_count": 32,
   "metadata": {},
   "outputs": [
    {
     "data": {
      "text/plain": [
       "[270.6416065637888,\n",
       " 524.2780429600978,\n",
       " 507.80711402791167,\n",
       " 327.9024282629646,\n",
       " 158.80045713800124,\n",
       " 61.52460735548975,\n",
       " 19.863908551586047,\n",
       " 5.49710172757265,\n",
       " 1.3311006446292126,\n",
       " 0.28650716750450117,\n",
       " 0.055501228721053016,\n",
       " 0.009774105435530582]"
      ]
     },
     "execution_count": 32,
     "metadata": {},
     "output_type": "execute_result"
    }
   ],
   "source": [
    "expected_frequences = [len(data) * stats.poisson.pmf(x, l)\n",
    "                       for x in range(min(data), max(data) + 1)]\n",
    "expected_frequences"
   ]
  },
  {
   "cell_type": "code",
   "execution_count": 35,
   "metadata": {},
   "outputs": [
    {
     "data": {
      "text/plain": [
       "<matplotlib.legend.Legend at 0x7fbc71652c70>"
      ]
     },
     "execution_count": 35,
     "metadata": {},
     "output_type": "execute_result"
    },
    {
     "data": {
      "image/png": "[encoded data removed]",
      "text/plain": [
       "<Figure size 432x288 with 1 Axes>"
      ]
     },
     "metadata": {},
     "output_type": "display_data"
    }
   ],
   "source": [
    "pylab.bar(range(12),\n",
    "          expected_frequences,\n",
    "          color = 'b',\n",
    "          label = 'poisson_pmf_stat')\n",
    "\n",
    "pylab.legend()"
   ]
  },
  {
   "cell_type": "markdown",
   "metadata": {},
   "source": [
    "Видим, что они несколько отличаются от наблюдённых частот. В общем-то, какие-то, может быть, довольно близки. Вот теперь давайте посмотрим на то, как это выглядит, построим гистограмму наших наблюдённых частот, то есть то, что бы мы получили из распределения Пуассона. Интересно сравнить этот график с предыдущим. Давайте отмотаем назад. В общем-то, видим, что они значительно отличаются. "
   ]
  },
  {
   "cell_type": "code",
   "execution_count": 34,
   "metadata": {},
   "outputs": [
    {
     "data": {
      "text/plain": [
       "<matplotlib.legend.Legend at 0x7fbc713d5fd0>"
      ]
     },
     "execution_count": 34,
     "metadata": {},
     "output_type": "execute_result"
    },
    {
     "data": {
      "image/png": "[encoded data removed]",
      "text/plain": [
       "<Figure size 432x288 with 1 Axes>"
      ]
     },
     "metadata": {},
     "output_type": "display_data"
    }
   ],
   "source": [
    "pylab.bar(range(len(expected_frequences)),\n",
    "          expected_frequences,\n",
    "          color = 'b',\n",
    "          label = 'poisson_distr')\n",
    "pylab.legend()"
   ]
  },
  {
   "cell_type": "markdown",
   "metadata": {},
   "source": [
    "Статистика критерия хи-квадрат: $$\\chi^2=\\sum_{i=1}^K \\frac{\\left(n_i- np_i\\right)^2}{np_i}$$\n",
    "При справедливости нулевой гипотезы имеет распределение хи-квадрат с числом степеней свободы $K-1-m$, где $m$ - число параметров распределения, оцененных по выборке."
   ]
  },
  {
   "cell_type": "code",
   "execution_count": 36,
   "metadata": {},
   "outputs": [
    {
     "data": {
      "text/plain": [
       "Power_divergenceResult(statistic=431.5752205284916, pvalue=1.772613180233512e-86)"
      ]
     },
     "execution_count": 36,
     "metadata": {},
     "output_type": "execute_result"
    }
   ],
   "source": [
    "stats.chisquare(observed_frequences,\n",
    "                expected_frequences,\n",
    "                ddof = 1)"
   ]
  },
  {
   "cell_type": "markdown",
   "metadata": {},
   "source": [
    "дивергенция Результат"
   ]
  },
  {
   "cell_type": "markdown",
   "metadata": {},
   "source": [
    "Теперь давайте это оценим строго с помощью критерия хи-квадрат. Вызываем функцию Chi-square, передаём ей наблюдённые частоты, ожидаемые частоты, и также важно указать параметры ddof, то есть difference of degrees of freedom. Это разница между степенями свободы. Дело в том, что мы с вами уже израсходовали одну степень свободы, когда оценивали параметр λ. Мы сделали это здесь, оценив его, как среднее по нашим данным, поэтому нам нужно сказать, что у нас теперь разница степеней свободны составляет 1, единичку мы уже потратили. Вот теперь давайте применим данный критерий и посмотрим. Во-первых, мы получили значение статистики, 431,5, и также значение p-value. Мы видим, что значение p-value – оно практически 0, очень маленькое число. Это значит, что мы можем смело отвергнуть гипотезу H0. То есть это означает, что наши данные не имеют распределения Пуассона с параметром l = почти 2. Итак, мы на этом заканчиваем. На этом видео мы научились на практике применять критерий хи-квадрат. А на следующим уроке вы поговорите про связь между проверкой гипотез и доверительными интервалами."
   ]
  },
  {
   "cell_type": "code",
   "execution_count": null,
   "metadata": {},
   "outputs": [],
   "source": []
  },
  {
   "cell_type": "code",
   "execution_count": null,
   "metadata": {},
   "outputs": [],
   "source": []
  }
 ],
 "metadata": {
  "kernelspec": {
   "display_name": "Python 3",
   "language": "python",
   "name": "python3"
  },
  "language_info": {
   "codemirror_mode": {
    "name": "ipython",
    "version": 3
   },
   "file_extension": ".py",
   "mimetype": "text/x-python",
   "name": "python",
   "nbconvert_exporter": "python",
   "pygments_lexer": "ipython3",
   "version": "3.8.3"
  }
 },
 "nbformat": 4,
 "nbformat_minor": 1
}
