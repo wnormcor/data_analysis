{
 "cells": [
  {
   "cell_type": "markdown",
   "metadata": {},
   "source": [
    "# Доверительные интервалы для доли "
   ]
  },
  {
   "cell_type": "markdown",
   "metadata": {},
   "source": [
    "## Генерация данных"
   ]
  },
  {
   "cell_type": "code",
   "execution_count": 1,
   "metadata": {},
   "outputs": [],
   "source": [
    "import numpy as np"
   ]
  },
  {
   "cell_type": "code",
   "execution_count": 3,
   "metadata": {},
   "outputs": [],
   "source": [
    "np.random.seed(1)\n",
    "\n",
    "statistical_population = np \\\n",
    "                         .random.randint(2, size = 100_000) "
   ]
  },
  {
   "cell_type": "code",
   "execution_count": 4,
   "metadata": {},
   "outputs": [],
   "source": [
    "# отобрать выборку из нашей генеральной совокупности\n",
    "random_sample = np \\\n",
    "                .random.choice(statistical_population, size = 1_000)"
   ]
  },
  {
   "cell_type": "code",
   "execution_count": 5,
   "metadata": {},
   "outputs": [
    {
     "data": {
      "text/plain": [
       "0.49771"
      ]
     },
     "execution_count": 5,
     "metadata": {},
     "output_type": "execute_result"
    }
   ],
   "source": [
    "#истинное значение доли\n",
    "statistical_population.mean()"
   ]
  },
  {
   "cell_type": "markdown",
   "metadata": {},
   "source": [
    "## Точечная оценка доли"
   ]
  },
  {
   "cell_type": "code",
   "execution_count": 6,
   "metadata": {},
   "outputs": [
    {
     "data": {
      "text/plain": [
       "0.502"
      ]
     },
     "execution_count": 6,
     "metadata": {},
     "output_type": "execute_result"
    }
   ],
   "source": [
    "# самая лучшая оценка среднего - это выборочное среднее\n",
    "\n",
    "# Эта оценка является:\n",
    "# - несмещенной\n",
    "# - асимптотически нормальной\n",
    "# - эффективной\n",
    "\n",
    "random_sample.mean()"
   ]
  },
  {
   "cell_type": "markdown",
   "metadata": {},
   "source": [
    "Однако часто такой оценки недостаточно. Например, в тех случаях, когда мы хотим знать, в каких диапазонах меняется настоящая доля, то есть какое минимальное и максимальное значение на нашу оценку среднего. Вот для того чтобы такую оценку получить, нужно построить доверительный интервал на среднее."
   ]
  },
  {
   "cell_type": "markdown",
   "metadata": {},
   "source": [
    "## Доверительный интервал для доли"
   ]
  },
  {
   "cell_type": "code",
   "execution_count": 7,
   "metadata": {},
   "outputs": [],
   "source": [
    "from statsmodels.stats.proportion import proportion_confint"
   ]
  },
  {
   "cell_type": "markdown",
   "metadata": {},
   "source": [
    "### Доверительный интервал на основе нормального распределения"
   ]
  },
  {
   "cell_type": "markdown",
   "metadata": {},
   "source": [
    "Чаще всего доверительные интервалы строятся на основе нормального распределения с использованием центральной предельной теоремы. Формула прямо перед вами.\n",
    "\n",
    "Давайте и мы начнем с этого. Для того чтобы такие интервалы получить, мы будем использовать функцию `proportion confint`. Она принимает несколько аргументов. Первый аргумент — это количество успехов в нашей подвыборке. Второй аргумент — это количество событий, то есть размер нашей подвыборки. И метод, с помощью которого мы хотим это оценивать.\n",
    "\n",
    "Мы работаем с нормальным распределением, поэтому и пишем метод normal. Итак, давайте построим интервал, очень просто. И теперь давайте выведем заданные границы на экран. Помимо самих границ интервала нас также будет интересовать его ширина. Понятно, это довольно важная характеристика, потому что чем уже получился наш интервал, тем более точную оценку диапазона мы с вами получили. Давайте посмотрим. Видим, что интервал получился неплохой. Помним, наше настоящее среднее 0,498, оно в этот интервал попадает. Ширина интервала 0,06 — в общем-то, довольно узкий интервал."
   ]
  },
  {
   "cell_type": "markdown",
   "metadata": {},
   "source": [
    "$$\\hat{p}\\pm z_{1-\\frac{\\alpha}{2}} \\sqrt{\\frac{\\hat{p}\\left(1-\\hat{p}\\right)}{n}}$$"
   ]
  },
  {
   "cell_type": "code",
   "execution_count": 8,
   "metadata": {},
   "outputs": [],
   "source": [
    "normal_interval = proportion_confint(sum(random_sample),\n",
    "                                     len(random_sample),\n",
    "                                     method = 'normal')"
   ]
  },
  {
   "cell_type": "code",
   "execution_count": 29,
   "metadata": {},
   "outputs": [
    {
     "data": {
      "text/plain": [
       "(0.06841861146701013, 0.07158138853298988)"
      ]
     },
     "execution_count": 29,
     "metadata": {},
     "output_type": "execute_result"
    }
   ],
   "source": [
    "proportion_confint(0.07 * 100_000,\n",
    "                   100_000,\n",
    "                   method = 'normal')"
   ]
  },
  {
   "cell_type": "code",
   "execution_count": 17,
   "metadata": {},
   "outputs": [
    {
     "name": "stdout",
     "output_type": "stream",
     "text": [
      "normal_interval [0.471010, 0.532990] with width 0.061979\n"
     ]
    }
   ],
   "source": [
    "print('normal_interval [%f, %f] with width %f' % (normal_interval[0],\n",
    "                                                  normal_interval[1], \n",
    "                                                  normal_interval[1] - normal_interval[0]))"
   ]
  },
  {
   "cell_type": "markdown",
   "metadata": {},
   "source": [
    "### Доверительный интервал Уилсона"
   ]
  },
  {
   "cell_type": "markdown",
   "metadata": {},
   "source": [
    "Следующий метод, который очень часто используют, это доверительный интервал Уилсона. Это некоторое улучшение предыдущего метода, которое позволяет получать качественные оценки в крайних случаях. То есть тогда, когда наша доля очень близка к 0 или очень близка к 1. + когда у нас не так много событий.\n",
    "\n",
    "Более того, этот интервал получается неплохим в случае, когда наша случайная подвыборка довольно мала, то есть включает в себя очень мало событий. Формула для расчета перед вами и давайте строить интервал. Это делается с помощью той же самой функции, видите, что первые два параметра не меняются. Однако нам нужно изменить метод, с помощью которого мы будем строить интервал.\n",
    "\n",
    "В данном случае мы будем пользоваться методом `Уилсона`, поэтому давайте это явно напишем. Итак, получаем интервал. Теперь давайте выведем результаты на экран. И сравним с предыдущим. Видим, что наши границы практически не изменились, видим, что изменения у нас только в пятом знаке после запятой, ну и с данной точностью мы даже не можем увидеть разницу в ширине интервала, то есть фактически они одинаковые. Ну почему так получается? Здесь мы не видим явных преимуществ, потому что наша случайная подвыборка довольно хороша. Значение доли у нас не является крайним. Объектов целых событий, вернее целых 1000. Поэтому, в общем-то, мы и так можем довольно не плохо это оценить."
   ]
  },
  {
   "cell_type": "markdown",
   "metadata": {},
   "source": [
    "$$\\frac1{ 1 + \\frac{z^2}{n} } \\left( \\hat{p} + \\frac{z^2}{2n} \\pm z \\sqrt{ \\frac{ \\hat{p}\\left(1-\\hat{p}\\right)}{n} + \\frac{\n",
    "z^2}{4n^2} } \\right), \\;\\; z \\equiv z_{1-\\frac{\\alpha}{2}}$$ "
   ]
  },
  {
   "cell_type": "code",
   "execution_count": 15,
   "metadata": {},
   "outputs": [],
   "source": [
    "wilson_interval = proportion_confint(sum(random_sample),\n",
    "                                     len(random_sample),\n",
    "                                     method = 'wilson')"
   ]
  },
  {
   "cell_type": "code",
   "execution_count": 16,
   "metadata": {},
   "outputs": [
    {
     "name": "stdout",
     "output_type": "stream",
     "text": [
      "wilson_interval [0.471062, 0.532922] with width 0.061860\n"
     ]
    }
   ],
   "source": [
    "print('wilson_interval [%f, %f] with width %f' % (wilson_interval[0],\n",
    "                                                  wilson_interval[1],\n",
    "                                                  wilson_interval[1] - wilson_interval[0]))"
   ]
  },
  {
   "cell_type": "markdown",
   "metadata": {},
   "source": [
    "Теперь давайте посмотрим еще раз на ширину интервала. В данном случае наш интервал имеет ширину 0,6. Часто мы с вами можем хотеть задать некоторое ограничение на ширину интервала. Например, мы хотим знать более точную оценку и получить интервал меньшей ширины.\n",
    "\n",
    "Таким образом, возникает вопрос: сколько же событий нам нужно знать для того, чтобы оценить долю с достаточной точностью?"
   ]
  },
  {
   "cell_type": "markdown",
   "metadata": {},
   "source": [
    "## Размер выборки для интервала заданной ширины"
   ]
  },
  {
   "cell_type": "markdown",
   "metadata": {},
   "source": [
    "Для того чтобы этот вопрос решить, существует очень удобный метод под названием `sample size confint proportion`.\n",
    "\n",
    "Он позволяет нам явно задать ограничение на ширину нашего интервала и получить количество событий, которое необходимо для того, чтобы получить оценку заданной ширины. Вот давайте это сделаем.\n",
    "\n",
    "Сначала импортируем нужную функциональность. И вот давайте для разнообразия получим интервал в 3 раза у́же, то есть интервал ширины 0,02. Для этого сначала указываем среднее выборочное по нашей выборке и давайте теперь укажем ширину интервала. На самом деле нам нужно указать половину ширины этого интервала для того, чтобы в дальнейшем получить интервал заданной ширины.\n",
    "\n",
    "Вот давайте получим количество объектов n samples и сразу же на него посмотрим. Вот оказывается, что чтобы получить оценку заданной точности, то есть в 3 раза, чтобы получить ширину в 3 раза у́же, нам нужно взять почти в 10 раз больше событий."
   ]
  },
  {
   "cell_type": "code",
   "execution_count": 18,
   "metadata": {},
   "outputs": [],
   "source": [
    "from statsmodels.stats.proportion import samplesize_confint_proportion"
   ]
  },
  {
   "cell_type": "code",
   "execution_count": 30,
   "metadata": {},
   "outputs": [
    {
     "data": {
      "text/plain": [
       "9602"
      ]
     },
     "execution_count": 30,
     "metadata": {},
     "output_type": "execute_result"
    }
   ],
   "source": [
    "n_samples = int(np.ceil(\n",
    "                        samplesize_confint_proportion(random_sample.mean(),\n",
    "                                                      0.01)\n",
    "                       ))\n",
    "n_samples\n",
    "\n",
    "                        # выборка_ограниченная_пропорция -> указываем половину требуемого интервала"
   ]
  },
  {
   "cell_type": "markdown",
   "metadata": {},
   "source": [
    "Ну вот давайте это сделаем. Перегенерируем нашу случайную выборку, снова будем использовать метод `random choice`, однако теперь скажем, что количество объектов будет равняться переменной n samples – тому количеству, которое мы рассчитали шагом выше. Итак, перестраиваем выборку. Теперь давайте снова получим интервал на долю с помощью метода `proportion confint`.\n",
    "\n",
    "Итак, получили наш интервал. И теперь смотрим, нас интересует, получился ли у нас интервал заданной ширины. Итак, мы видим, что все получилось. Интервал по-прежнему достаточно хороший. Наше истинное значение входит в заданный интервал и при этом он стал в 3 раза у́же. Мы получили оценку интервала шириной 0,002."
   ]
  },
  {
   "cell_type": "code",
   "execution_count": 21,
   "metadata": {},
   "outputs": [],
   "source": [
    "np.random.seed(1)\n",
    "random_sample = np.random.choice(statistical_population, size = n_samples)"
   ]
  },
  {
   "cell_type": "code",
   "execution_count": 22,
   "metadata": {},
   "outputs": [],
   "source": [
    "normal_interval = proportion_confint(sum(random_sample),\n",
    "                                     len(random_sample),\n",
    "                                     method = 'normal')"
   ]
  },
  {
   "cell_type": "code",
   "execution_count": 23,
   "metadata": {},
   "outputs": [
    {
     "name": "stdout",
     "output_type": "stream",
     "text": [
      "normal_interval [0.481776, 0.501773] with width 0.019997\n"
     ]
    }
   ],
   "source": [
    "print('normal_interval [%f, %f] with width %f' % (normal_interval[0],\n",
    "                                                  normal_interval[1],\n",
    "                                                  normal_interval[1] - normal_interval[0]))"
   ]
  },
  {
   "cell_type": "markdown",
   "metadata": {},
   "source": [
    "# Доверительные интервалы для долей - Тест"
   ]
  },
  {
   "cell_type": "markdown",
   "metadata": {},
   "source": [
    "## Вопрос 1"
   ]
  },
  {
   "attachments": {
    "image.png": {
     "image/png": "[encoded data removed]"
    }
   },
   "cell_type": "markdown",
   "metadata": {},
   "source": [
    "![image.png](attachment:image.png)"
   ]
  },
  {
   "cell_type": "markdown",
   "metadata": {},
   "source": [
    "## Вопрос 2\n",
    "Большая часть млекопитающих неспособны во взрослом возрасте переваривать лактозу, содержащуюся в молоке. У людей за расщепление лактозы отвечает фермент лактаза, кодируемый геном LCT. У людей с вариантом 13910T этого гена лактаза продолжает функционировать на протяжении всей жизни. Распределение этого варианта гена сильно варьируется в различных генетических популяциях.\n",
    "\n",
    "Из 50 исследованных представителей народа майя вариант 13910T был обнаружен у одного. Постройте нормальный 95% доверительный интервал для доли носителей варианта 13910T в популяции майя. Чему равна его нижняя граница? Округлите ответ до 4 знаков после десятичной точки."
   ]
  },
  {
   "cell_type": "code",
   "execution_count": 92,
   "metadata": {},
   "outputs": [
    {
     "data": {
      "text/plain": [
       "(0.0, 0.05880530708179099)"
      ]
     },
     "execution_count": 92,
     "metadata": {},
     "output_type": "execute_result"
    }
   ],
   "source": [
    "proportion_confint(1,\n",
    "                   50,\n",
    "                   method = 'normal')"
   ]
  },
  {
   "cell_type": "markdown",
   "metadata": {},
   "source": [
    "вопросы: а чем определяется 95% доверия интервала?"
   ]
  },
  {
   "cell_type": "markdown",
   "metadata": {},
   "source": [
    "3.\n",
    "Вопрос 3\n",
    "В условиях предыдущей задачи постройте 95% доверительный интервал Уилсона для доли носителей варианта 13910T в популяции майя. Чему равна его нижняя граница? Округлите ответ до 4 знаков после десятичной точки."
   ]
  },
  {
   "cell_type": "code",
   "execution_count": 93,
   "metadata": {},
   "outputs": [
    {
     "data": {
      "text/plain": [
       "(0.003539259271646236, 0.10495443589637815)"
      ]
     },
     "execution_count": 93,
     "metadata": {},
     "output_type": "execute_result"
    }
   ],
   "source": [
    "proportion_confint(1,\n",
    "                   50,\n",
    "                   method = 'wilson')"
   ]
  },
  {
   "cell_type": "markdown",
   "metadata": {},
   "source": [
    "### Правильно"
   ]
  },
  {
   "cell_type": "code",
   "execution_count": 94,
   "metadata": {},
   "outputs": [
    {
     "data": {
      "text/plain": [
       "(0.003539259271646236, 0.10495443589637815)"
      ]
     },
     "execution_count": 94,
     "metadata": {},
     "output_type": "execute_result"
    }
   ],
   "source": [
    "from statsmodels.stats.proportion import proportion_confint\n",
    "proportion_confint(1, 50, method = 'wilson')"
   ]
  },
  {
   "cell_type": "markdown",
   "metadata": {},
   "source": [
    "## Вопрос 4\n",
    "Какой из двух построенных доверительных интервалов выглядит более вменяемым, учитывая, что параметр, для которого строится оценка, меняется от 0 до 1?\n",
    "\n",
    "- нормальный\n",
    "\n",
    "- Уилсона"
   ]
  },
  {
   "cell_type": "markdown",
   "metadata": {},
   "source": [
    "## Вопрос 5\n",
    "Пусть в популяции майя действительно 2% носителей варианта 13910T, как в выборке, которую мы исследовали. Какой объём выборки нужен, чтобы с помощью нормального интервала оценить долю носителей гена 13910T с точностью ±0.01 на уровне доверия 95%?"
   ]
  },
  {
   "cell_type": "code",
   "execution_count": 52,
   "metadata": {},
   "outputs": [
    {
     "data": {
      "text/plain": [
       "753"
      ]
     },
     "execution_count": 52,
     "metadata": {},
     "output_type": "execute_result"
    }
   ],
   "source": [
    "int(np.ceil(\n",
    "                        samplesize_confint_proportion(0.02,\n",
    "                                                      0.01)\n",
    "                       ))"
   ]
  },
  {
   "cell_type": "markdown",
   "metadata": {},
   "source": [
    "### правильное решение:\n",
    "\n",
    "from statsmodels.stats.proportion import samplesize_confint_proportion\n",
    "\n",
    "from math import ceil\n",
    "\n",
    "ceil(samplesize_confint_proportion(1.0/50, 0.01, method='normal'))"
   ]
  },
  {
   "cell_type": "code",
   "execution_count": 77,
   "metadata": {},
   "outputs": [
    {
     "data": {
      "text/plain": [
       "753"
      ]
     },
     "execution_count": 77,
     "metadata": {},
     "output_type": "execute_result"
    }
   ],
   "source": [
    "from statsmodels.stats.proportion import samplesize_confint_proportion\n",
    "from math import ceil\n",
    "ceil(samplesize_confint_proportion(1.0/50, 0.01, method='normal'))"
   ]
  },
  {
   "cell_type": "markdown",
   "metadata": {},
   "source": [
    "## Вопрос 6\n",
    "Постройте график зависимости объёма выборки, необходимого для оценки для доли носителей гена 13910T с точностью \\pm0.01±0.01 на уровне доверия 95%, от неизвестного параметра pp. Посмотрите, при каком значении pp нужно больше всего испытуемых. Как вы думаете, насколько вероятно, что выборка, которую мы анализируем, взята из случайной величины с этим значением параметра?\n",
    "\n",
    "Как бы вы не ответили на последний вопрос, рассмотреть объём выборки, необходимый при таком pp, всё равно полезно — это даёт максимально пессимистичную оценку необходимого объёма выборки.\n",
    "\n",
    "Какой объём выборки нужен в худшем случае, чтобы с помощью нормального интервала оценить долю носителей гена 13910T с точностью 0.01±0.01 на уровне доверия 95%?"
   ]
  },
  {
   "cell_type": "code",
   "execution_count": 70,
   "metadata": {},
   "outputs": [],
   "source": [
    "x = 0\n",
    "l = []\n",
    "for i in range(1, 1001, 1):\n",
    "    l.append(int(np.ceil(\n",
    "                        samplesize_confint_proportion(0.001 * i,\n",
    "                                                      0.01)\n",
    "                       )))\n",
    "k = zip(range(0,1001,1),l)"
   ]
  },
  {
   "cell_type": "code",
   "execution_count": 56,
   "metadata": {},
   "outputs": [],
   "source": [
    "import seaborn as sns; sns.set()\n",
    "import matplotlib.pyplot as plt"
   ]
  },
  {
   "cell_type": "code",
   "execution_count": 75,
   "metadata": {},
   "outputs": [
    {
     "data": {
      "text/plain": [
       "<matplotlib.axes._subplots.AxesSubplot at 0x7fa770fdb490>"
      ]
     },
     "execution_count": 75,
     "metadata": {},
     "output_type": "execute_result"
    },
    {
     "data": {
      "image/png": "[encoded data removed]",
      "text/plain": [
       "<Figure size 432x288 with 1 Axes>"
      ]
     },
     "metadata": {},
     "output_type": "display_data"
    }
   ],
   "source": [
    "sns.lineplot(x=(0.001 * x for x in range(1,1001,1)), y=l)"
   ]
  },
  {
   "cell_type": "code",
   "execution_count": 72,
   "metadata": {},
   "outputs": [
    {
     "data": {
      "text/plain": [
       "9603.647051735317"
      ]
     },
     "execution_count": 72,
     "metadata": {},
     "output_type": "execute_result"
    }
   ],
   "source": [
    "samplesize_confint_proportion(0.001 * 500, 0.01)"
   ]
  },
  {
   "cell_type": "markdown",
   "metadata": {},
   "source": [
    "### правильное решение:\n",
    "\n",
    "from statsmodels.stats.proportion import samplesize_confint_proportion\n",
    "\n",
    "from math import ceil\n",
    "\n",
    "ceil(samplesize_confint_proportion(0.5, 0.01, method='normal'))"
   ]
  },
  {
   "cell_type": "code",
   "execution_count": 76,
   "metadata": {},
   "outputs": [
    {
     "data": {
      "text/plain": [
       "9604"
      ]
     },
     "execution_count": 76,
     "metadata": {},
     "output_type": "execute_result"
    }
   ],
   "source": [
    "from statsmodels.stats.proportion import samplesize_confint_proportion\n",
    "from math import ceil\n",
    "ceil(samplesize_confint_proportion(0.5, 0.01, method='normal'))\n",
    "# потолок"
   ]
  },
  {
   "cell_type": "markdown",
   "metadata": {},
   "source": [
    "# доп.расчеты"
   ]
  },
  {
   "cell_type": "code",
   "execution_count": 105,
   "metadata": {},
   "outputs": [
    {
     "data": {
      "text/plain": [
       "[0.504, 0.696]"
      ]
     },
     "execution_count": 105,
     "metadata": {},
     "output_type": "execute_result"
    }
   ],
   "source": [
    "list(map(lambda x: round(x, 3),\n",
    "         proportion_confint(60, 100, method = 'normal', alpha = 0.05)))"
   ]
  },
  {
   "cell_type": "code",
   "execution_count": 104,
   "metadata": {},
   "outputs": [
    {
     "data": {
      "text/plain": [
       "[0.502, 0.691]"
      ]
     },
     "execution_count": 104,
     "metadata": {},
     "output_type": "execute_result"
    }
   ],
   "source": [
    "list(map(lambda x: round(x, 3),\n",
    "         proportion_confint(60, 100, method = 'wilson', alpha = 0.05)))"
   ]
  },
  {
   "cell_type": "code",
   "execution_count": 102,
   "metadata": {},
   "outputs": [
    {
     "data": {
      "text/plain": [
       "[0.402, 0.598]"
      ]
     },
     "execution_count": 102,
     "metadata": {},
     "output_type": "execute_result"
    }
   ],
   "source": [
    "list(map(lambda x: round(x, 3), proportion_confint(50,\n",
    "                   100,\n",
    "                   method = 'normal',\n",
    "                   alpha = 0.05, \n",
    "                                                  )))"
   ]
  },
  {
   "cell_type": "code",
   "execution_count": 108,
   "metadata": {},
   "outputs": [
    {
     "data": {
      "text/plain": [
       "[0.502, 0.691]"
      ]
     },
     "execution_count": 108,
     "metadata": {},
     "output_type": "execute_result"
    }
   ],
   "source": [
    "list(map(lambda x: round(x, 3),\n",
    "         proportion_confint(60, 100, method = 'wilson', alpha = 0.05)))"
   ]
  },
  {
   "cell_type": "code",
   "execution_count": 107,
   "metadata": {},
   "outputs": [
    {
     "data": {
      "text/plain": [
       "[0.657, 0.825]"
      ]
     },
     "execution_count": 107,
     "metadata": {},
     "output_type": "execute_result"
    }
   ],
   "source": [
    "list(map(lambda x: round(x, 3),\n",
    "         proportion_confint(75, 100, method = 'wilson', alpha = 0.05)))"
   ]
  },
  {
   "cell_type": "code",
   "execution_count": 110,
   "metadata": {},
   "outputs": [
    {
     "data": {
      "text/plain": [
       "[0.08, 0.22]"
      ]
     },
     "execution_count": 110,
     "metadata": {},
     "output_type": "execute_result"
    }
   ],
   "source": [
    "list(map(lambda x: round(x, 3),\n",
    "         proportion_confint(75 - 60, 100, method = 'normal', alpha = 0.05)))"
   ]
  },
  {
   "cell_type": "code",
   "execution_count": null,
   "metadata": {},
   "outputs": [],
   "source": []
  }
 ],
 "metadata": {
  "kernelspec": {
   "display_name": "Python 3",
   "language": "python",
   "name": "python3"
  },
  "language_info": {
   "codemirror_mode": {
    "name": "ipython",
    "version": 3
   },
   "file_extension": ".py",
   "mimetype": "text/x-python",
   "name": "python",
   "nbconvert_exporter": "python",
   "pygments_lexer": "ipython3",
   "version": "3.8.3"
  }
 },
 "nbformat": 4,
 "nbformat_minor": 1
}
